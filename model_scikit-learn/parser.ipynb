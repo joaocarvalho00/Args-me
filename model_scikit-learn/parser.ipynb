{
 "cells": [
  {
   "cell_type": "code",
   "execution_count": 4,
   "metadata": {},
   "outputs": [],
   "source": [
    "import ijson"
   ]
  },
  {
   "cell_type": "code",
   "execution_count": 5,
   "metadata": {},
   "outputs": [],
   "source": [
    "#Extrai informação do ficheiro para listas\n",
    "#max size = 387692\n",
    "\n",
    "def extract_info(json_filename, sample_size):\n",
    "    list_premises = []\n",
    "    list_conclusions = []\n",
    "    list_stances = []\n",
    "    i = 0\n",
    "    j = 0\n",
    "    k = 0\n",
    "    print_once = True\n",
    "    with open(json_filename, 'rb') as input_file:\n",
    "        parser = ijson.parse(input_file)\n",
    "        for prefix, event, value in parser:\n",
    "            if (prefix, event) == (\"arguments.item.conclusion\", \"string\") and i != sample_size:\n",
    "                list_conclusions.append(value)\n",
    "                i = i+1\n",
    "            if (prefix, event) == (\"arguments.item.premises.item.text\", \"string\") and j != sample_size:\n",
    "                list_premises.append(value)\n",
    "                j = j+1\n",
    "            if (prefix, event) == (\"arguments.item.premises.item.stance\", \"string\") and k != sample_size:\n",
    "                list_stances.append(value)\n",
    "                k = k+1\n",
    "            if i == sample_size and j == sample_size and k == sample_size:\n",
    "                    break\n",
    "        return list_conclusions, list_premises, list_stances"
   ]
  }
 ],
 "metadata": {
  "kernelspec": {
   "display_name": "Python 3",
   "language": "python",
   "name": "python3"
  },
  "language_info": {
   "codemirror_mode": {
    "name": "ipython",
    "version": 3
   },
   "file_extension": ".py",
   "mimetype": "text/x-python",
   "name": "python",
   "nbconvert_exporter": "python",
   "pygments_lexer": "ipython3",
   "version": "3.8.1"
  }
 },
 "nbformat": 4,
 "nbformat_minor": 4
}
