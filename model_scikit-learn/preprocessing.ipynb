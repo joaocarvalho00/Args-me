{
 "cells": [
  {
   "cell_type": "code",
   "execution_count": 2,
   "metadata": {},
   "outputs": [],
   "source": [
    "import re\n",
    "import string\n",
    "from nltk.corpus import stopwords\n",
    "from nltk.tokenize import word_tokenize\n",
    "from nltk.corpus import stopwords\n",
    "from nltk.stem import WordNetLemmatizer"
   ]
  },
  {
   "cell_type": "code",
   "execution_count": 3,
   "metadata": {},
   "outputs": [],
   "source": [
    "lemmatizer = WordNetLemmatizer()\n",
    "\n",
    "def remove_URL(sample):\n",
    "    #Remove URL\n",
    "    return re.sub(r\"http\\S+\", \"\", sample)\n",
    "\n",
    "def remove_punctuation(text):\n",
    "    #Remove Punctuation\n",
    "    no_punct = \"\".join([c for c in text if c not in string.punctuation])\n",
    "    return no_punct\n",
    "\n",
    "def remove_numbers(text):\n",
    "    output = ''.join(c for c in text if not c.isdigit())\n",
    "    return output\n",
    "\n",
    "def lowercase(text):\n",
    "    #Lowercase text\n",
    "    lowercase_text = text.lower()\n",
    "    return lowercase_text\n",
    "\n",
    "def tokenizer(text):\n",
    "    #Word Tokenizer\n",
    "    tokenized_text = word_tokenize(text)\n",
    "    return tokenized_text\n",
    "\n",
    "def remove_stopwords(words):\n",
    "    new_words = []\n",
    "    for word in words:\n",
    "        if word not in stopwords.words('english'):\n",
    "            new_words.append(word)\n",
    "    return new_words\n",
    "\n",
    "def lemmatization(text):\n",
    "    lem = list(map(lemmatizer.lemmatize, text))\n",
    "    return lem\n",
    "\n",
    "\n",
    "    \n",
    "#token_pattern = r'\\S+'"
   ]
  },
  {
   "cell_type": "code",
   "execution_count": 6,
   "metadata": {},
   "outputs": [],
   "source": [
    "def preprocess(text):\n",
    "    \n",
    "    #sentence = remove_URL(text)\n",
    "    sentence = remove_punctuation(sentence)\n",
    "    sentence = remove_numbers(sentence)\n",
    "    sentence = lowercase(sentence)\n",
    "    sentence = tokenizer(sentence)\n",
    "    #sentence = remove_stopwords(sentence)\n",
    "    #sentence = lemmatization(sentence)\n",
    "    #sentence = \" \".join(sentence)\n",
    "    \n",
    "    return sentence"
   ]
  }
 ],
 "metadata": {
  "kernelspec": {
   "display_name": "Python 3",
   "language": "python",
   "name": "python3"
  },
  "language_info": {
   "codemirror_mode": {
    "name": "ipython",
    "version": 3
   },
   "file_extension": ".py",
   "mimetype": "text/x-python",
   "name": "python",
   "nbconvert_exporter": "python",
   "pygments_lexer": "ipython3",
   "version": "3.8.1"
  }
 },
 "nbformat": 4,
 "nbformat_minor": 4
}
