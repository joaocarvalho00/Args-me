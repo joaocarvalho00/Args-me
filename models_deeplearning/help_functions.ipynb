{
 "cells": [
  {
   "cell_type": "code",
   "execution_count": 13,
   "metadata": {},
   "outputs": [],
   "source": [
    "import pandas as pd\n",
    "from sklearn.model_selection import train_test_split\n",
    "import numpy as np\n",
    "import string\n",
    "#from nltk.corpus import stopwords"
   ]
  },
  {
   "cell_type": "code",
   "execution_count": 3,
   "metadata": {},
   "outputs": [],
   "source": [
    "def number_stances(l_stances):\n",
    "    #Altera os \"PRO\" para 1 e os \"CON\" para 0\n",
    "\n",
    "    stances_numbered = []\n",
    "\n",
    "    for stance in l_stances:\n",
    "        if stance == 'PRO':\n",
    "            stances_numbered.append(1)\n",
    "        if stance == 'CON':\n",
    "            stances_numbered.append(0)\n",
    "        \n",
    "            \n",
    "    return stances_numbered"
   ]
  },
  {
   "cell_type": "code",
   "execution_count": 4,
   "metadata": {},
   "outputs": [],
   "source": [
    "def group_labels(data):\n",
    "    #Agrupa os labels num dataframe\n",
    "\n",
    "    labels = pd.Series(data, name = \"Stance\")\n",
    "\n",
    "    return labels"
   ]
  },
  {
   "cell_type": "code",
   "execution_count": 6,
   "metadata": {},
   "outputs": [],
   "source": [
    "def train_test_split_func(X, Y, test_size = 0.2):\n",
    "    #Train/Test split\n",
    "    X_train, X_test, y_train , y_test = train_test_split(X, Y, test_size = test_size, random_state = 1)\n",
    "    \n",
    "    print(\"X_train's size is : {}\".format(X_train.shape))\n",
    "    print(\"X_test's size is : {}\".format(X_test.shape))\n",
    "\n",
    "    print(\"y_train's size is : {}\".format(y_train.shape))\n",
    "    print(\"y_test's size is : {}\".format(y_test.shape))\n",
    "    \n",
    "    return X_train, X_test, y_train, y_test"
   ]
  },
  {
   "cell_type": "code",
   "execution_count": 8,
   "metadata": {},
   "outputs": [],
   "source": [
    "def join_titles(l_conclusions, l_premises):\n",
    "    #Junta os títulos ao texto \n",
    "\n",
    "    text = []\n",
    "\n",
    "    for x in range(0, len(l_conclusions)):    \n",
    "        content = ' '.join([l_conclusions[x], l_premises[x]])\n",
    "        text.append(content)\n",
    "\n",
    "    text_df = pd.Series(text)\n",
    "    \n",
    "    return text_df"
   ]
  },
  {
   "cell_type": "code",
   "execution_count": 1,
   "metadata": {},
   "outputs": [],
   "source": [
    "def remove_stopwords(sentences):\n",
    "    #stop_words = set(stopwords.words('english'))\n",
    "\n",
    "    filtered_sentences = []\n",
    "    \n",
    "    #for word in sentences:\n",
    "        #if word not in stop_words:\n",
    "            #filtered_sentences.append(word)\n",
    "        \n",
    "            \n",
    "    return filtered_sentences  "
   ]
  }
 ],
 "metadata": {
  "kernelspec": {
   "display_name": "Tensorflow",
   "language": "python",
   "name": "tensorflow"
  },
  "language_info": {
   "codemirror_mode": {
    "name": "ipython",
    "version": 3
   },
   "file_extension": ".py",
   "mimetype": "text/x-python",
   "name": "python",
   "nbconvert_exporter": "python",
   "pygments_lexer": "ipython3",
   "version": "3.7.7"
  }
 },
 "nbformat": 4,
 "nbformat_minor": 4
}
